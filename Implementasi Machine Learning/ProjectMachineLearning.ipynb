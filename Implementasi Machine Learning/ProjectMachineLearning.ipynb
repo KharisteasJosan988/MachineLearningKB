{
 "cells": [
  {
   "cell_type": "code",
   "execution_count": 3,
   "id": "42671820-cf78-43aa-9873-5a1718973b06",
   "metadata": {},
   "outputs": [],
   "source": [
    "import numpy as np "
   ]
  },
  {
   "cell_type": "code",
   "execution_count": 4,
   "id": "81daa0f1-e587-400a-8efc-747c662bc20c",
   "metadata": {},
   "outputs": [
    {
     "ename": "ModuleNotFoundError",
     "evalue": "No module named 'pandas'",
     "output_type": "error",
     "traceback": [
      "\u001b[1;31m---------------------------------------------------------------------------\u001b[0m",
      "\u001b[1;31mModuleNotFoundError\u001b[0m                       Traceback (most recent call last)",
      "Cell \u001b[1;32mIn[4], line 1\u001b[0m\n\u001b[1;32m----> 1\u001b[0m \u001b[38;5;28;01mimport\u001b[39;00m \u001b[38;5;21;01mpandas\u001b[39;00m \u001b[38;5;28;01mas\u001b[39;00m \u001b[38;5;21;01mpd\u001b[39;00m\n",
      "\u001b[1;31mModuleNotFoundError\u001b[0m: No module named 'pandas'"
     ]
    }
   ],
   "source": [
    "import pandas as pd"
   ]
  },
  {
   "cell_type": "code",
   "execution_count": 5,
   "id": "516589ae-6ce4-40a8-bf06-bab868b304be",
   "metadata": {},
   "outputs": [
    {
     "name": "stdout",
     "output_type": "stream",
     "text": [
      "Collecting pandasNote: you may need to restart the kernel to use updated packages.\n",
      "\n",
      "  Downloading pandas-2.2.2-cp312-cp312-win_amd64.whl.metadata (19 kB)\n",
      "Requirement already satisfied: numpy>=1.26.0 in c:\\users\\user\\appdata\\local\\programs\\python\\python312\\lib\\site-packages (from pandas) (1.26.4)\n",
      "Requirement already satisfied: python-dateutil>=2.8.2 in c:\\users\\user\\appdata\\local\\programs\\python\\python312\\lib\\site-packages (from pandas) (2.8.2)\n",
      "Collecting pytz>=2020.1 (from pandas)\n",
      "  Downloading pytz-2024.1-py2.py3-none-any.whl.metadata (22 kB)\n",
      "Collecting tzdata>=2022.7 (from pandas)\n",
      "  Downloading tzdata-2024.1-py2.py3-none-any.whl.metadata (1.4 kB)\n",
      "Requirement already satisfied: six>=1.5 in c:\\users\\user\\appdata\\local\\programs\\python\\python312\\lib\\site-packages (from python-dateutil>=2.8.2->pandas) (1.16.0)\n",
      "Downloading pandas-2.2.2-cp312-cp312-win_amd64.whl (11.5 MB)\n",
      "   ---------------------------------------- 0.0/11.5 MB ? eta -:--:--\n",
      "   ---------------------------------------- 0.1/11.5 MB 3.6 MB/s eta 0:00:04\n",
      "   - -------------------------------------- 0.4/11.5 MB 4.6 MB/s eta 0:00:03\n",
      "   -- ------------------------------------- 0.8/11.5 MB 6.2 MB/s eta 0:00:02\n",
      "   ---- ----------------------------------- 1.3/11.5 MB 7.6 MB/s eta 0:00:02\n",
      "   ------ --------------------------------- 1.9/11.5 MB 8.6 MB/s eta 0:00:02\n",
      "   -------- ------------------------------- 2.4/11.5 MB 8.9 MB/s eta 0:00:02\n",
      "   -------- ------------------------------- 2.5/11.5 MB 8.1 MB/s eta 0:00:02\n",
      "   ------------ --------------------------- 3.5/11.5 MB 9.8 MB/s eta 0:00:01\n",
      "   -------------- ------------------------- 4.1/11.5 MB 10.0 MB/s eta 0:00:01\n",
      "   --------------- ------------------------ 4.6/11.5 MB 10.1 MB/s eta 0:00:01\n",
      "   ----------------- ---------------------- 5.0/11.5 MB 10.0 MB/s eta 0:00:01\n",
      "   ------------------- -------------------- 5.6/11.5 MB 10.2 MB/s eta 0:00:01\n",
      "   --------------------- ------------------ 6.1/11.5 MB 10.3 MB/s eta 0:00:01\n",
      "   ----------------------- ---------------- 6.7/11.5 MB 10.4 MB/s eta 0:00:01\n",
      "   ------------------------- -------------- 7.2/11.5 MB 10.5 MB/s eta 0:00:01\n",
      "   -------------------------- ------------- 7.7/11.5 MB 10.4 MB/s eta 0:00:01\n",
      "   ---------------------------- ----------- 8.1/11.5 MB 10.4 MB/s eta 0:00:01\n",
      "   ------------------------------ --------- 8.7/11.5 MB 10.4 MB/s eta 0:00:01\n",
      "   ------------------------------- -------- 9.2/11.5 MB 10.5 MB/s eta 0:00:01\n",
      "   --------------------------------- ------ 9.7/11.5 MB 10.6 MB/s eta 0:00:01\n",
      "   ----------------------------------- ---- 10.3/11.5 MB 10.6 MB/s eta 0:00:01\n",
      "   ------------------------------------- -- 10.8/11.5 MB 11.3 MB/s eta 0:00:01\n",
      "   ---------------------------------------  11.3/11.5 MB 11.3 MB/s eta 0:00:01\n",
      "   ---------------------------------------  11.5/11.5 MB 11.5 MB/s eta 0:00:01\n",
      "   ---------------------------------------- 11.5/11.5 MB 10.9 MB/s eta 0:00:00\n",
      "Downloading pytz-2024.1-py2.py3-none-any.whl (505 kB)\n",
      "   ---------------------------------------- 0.0/505.5 kB ? eta -:--:--\n",
      "   --------------------------------------  501.8/505.5 kB 15.9 MB/s eta 0:00:01\n",
      "   --------------------------------------- 505.5/505.5 kB 10.5 MB/s eta 0:00:00\n",
      "Downloading tzdata-2024.1-py2.py3-none-any.whl (345 kB)\n",
      "   ---------------------------------------- 0.0/345.4 kB ? eta -:--:--\n",
      "   --------------------------------------  337.9/345.4 kB 10.6 MB/s eta 0:00:01\n",
      "   --------------------------------------  337.9/345.4 kB 10.6 MB/s eta 0:00:01\n",
      "   ---------------------------------------- 345.4/345.4 kB 3.6 MB/s eta 0:00:00\n",
      "Installing collected packages: pytz, tzdata, pandas\n",
      "Successfully installed pandas-2.2.2 pytz-2024.1 tzdata-2024.1\n"
     ]
    }
   ],
   "source": [
    "pip install pandas"
   ]
  },
  {
   "cell_type": "code",
   "execution_count": 6,
   "id": "572ac4ea-daee-4305-ab6e-d54ddbfe4e2b",
   "metadata": {},
   "outputs": [],
   "source": [
    "import os"
   ]
  },
  {
   "cell_type": "code",
   "execution_count": 7,
   "id": "fb18b118-20b2-493b-8c1f-de7e4d670eb3",
   "metadata": {},
   "outputs": [],
   "source": [
    "for dirname, _, filenames in os.walk('/kaggle/input'):\n",
    "    for filename in filenames:\n",
    "        print(os.path.join(dirname, filename))"
   ]
  },
  {
   "cell_type": "code",
   "execution_count": 8,
   "id": "63723542-272c-41db-8741-3c35b6f1b006",
   "metadata": {},
   "outputs": [
    {
     "ename": "ModuleNotFoundError",
     "evalue": "No module named 'matplotlib'",
     "output_type": "error",
     "traceback": [
      "\u001b[1;31m---------------------------------------------------------------------------\u001b[0m",
      "\u001b[1;31mModuleNotFoundError\u001b[0m                       Traceback (most recent call last)",
      "Cell \u001b[1;32mIn[8], line 1\u001b[0m\n\u001b[1;32m----> 1\u001b[0m \u001b[38;5;28;01mimport\u001b[39;00m \u001b[38;5;21;01mmatplotlib\u001b[39;00m\u001b[38;5;21;01m.\u001b[39;00m\u001b[38;5;21;01mpyplot\u001b[39;00m \u001b[38;5;28;01mas\u001b[39;00m \u001b[38;5;21;01mplt\u001b[39;00m\n\u001b[0;32m      2\u001b[0m get_ipython()\u001b[38;5;241m.\u001b[39mrun_line_magic(\u001b[38;5;124m'\u001b[39m\u001b[38;5;124mmatplotlib\u001b[39m\u001b[38;5;124m'\u001b[39m, \u001b[38;5;124m'\u001b[39m\u001b[38;5;124minline\u001b[39m\u001b[38;5;124m'\u001b[39m)\n",
      "\u001b[1;31mModuleNotFoundError\u001b[0m: No module named 'matplotlib'"
     ]
    }
   ],
   "source": [
    "import matplotlib.pyplot as plt\n",
    "%matplotlib inline"
   ]
  },
  {
   "cell_type": "code",
   "execution_count": 9,
   "id": "b2ac78c1-422e-4352-b30f-a00467c32919",
   "metadata": {},
   "outputs": [
    {
     "name": "stdout",
     "output_type": "stream",
     "text": [
      "Collecting matplotlib\n",
      "  Downloading matplotlib-3.8.4-cp312-cp312-win_amd64.whl.metadata (5.9 kB)\n",
      "Collecting contourpy>=1.0.1 (from matplotlib)\n",
      "  Downloading contourpy-1.2.1-cp312-cp312-win_amd64.whl.metadata (5.8 kB)\n",
      "Collecting cycler>=0.10 (from matplotlib)\n",
      "  Downloading cycler-0.12.1-py3-none-any.whl.metadata (3.8 kB)\n",
      "Collecting fonttools>=4.22.0 (from matplotlib)\n",
      "  Downloading fonttools-4.51.0-cp312-cp312-win_amd64.whl.metadata (162 kB)\n",
      "     ---------------------------------------- 0.0/162.8 kB ? eta -:--:--\n",
      "     ------ ------------------------------ 30.7/162.8 kB 660.6 kB/s eta 0:00:01\n",
      "     ----------------------------------- -- 153.6/162.8 kB 1.8 MB/s eta 0:00:01\n",
      "     -------------------------------------- 162.8/162.8 kB 1.6 MB/s eta 0:00:00\n",
      "Collecting kiwisolver>=1.3.1 (from matplotlib)\n",
      "  Downloading kiwisolver-1.4.5-cp312-cp312-win_amd64.whl.metadata (6.5 kB)\n",
      "Requirement already satisfied: numpy>=1.21 in c:\\users\\user\\appdata\\local\\programs\\python\\python312\\lib\\site-packages (from matplotlib) (1.26.4)\n",
      "Requirement already satisfied: packaging>=20.0 in c:\\users\\user\\appdata\\local\\programs\\python\\python312\\lib\\site-packages (from matplotlib) (23.2)\n",
      "Collecting pillow>=8 (from matplotlib)\n",
      "  Downloading pillow-10.3.0-cp312-cp312-win_amd64.whl.metadata (9.4 kB)\n",
      "Collecting pyparsing>=2.3.1 (from matplotlib)\n",
      "  Downloading pyparsing-3.1.2-py3-none-any.whl.metadata (5.1 kB)\n",
      "Requirement already satisfied: python-dateutil>=2.7 in c:\\users\\user\\appdata\\local\\programs\\python\\python312\\lib\\site-packages (from matplotlib) (2.8.2)\n",
      "Requirement already satisfied: six>=1.5 in c:\\users\\user\\appdata\\local\\programs\\python\\python312\\lib\\site-packages (from python-dateutil>=2.7->matplotlib) (1.16.0)\n",
      "Downloading matplotlib-3.8.4-cp312-cp312-win_amd64.whl (7.7 MB)\n",
      "   ---------------------------------------- 0.0/7.7 MB ? eta -:--:--\n",
      "   -- ------------------------------------- 0.5/7.7 MB 9.4 MB/s eta 0:00:01\n",
      "   ---- ----------------------------------- 0.8/7.7 MB 9.0 MB/s eta 0:00:01\n",
      "   ------ --------------------------------- 1.3/7.7 MB 8.9 MB/s eta 0:00:01\n",
      "   -------- ------------------------------- 1.7/7.7 MB 9.1 MB/s eta 0:00:01\n",
      "   ----------- ---------------------------- 2.1/7.7 MB 9.1 MB/s eta 0:00:01\n",
      "   -------------- ------------------------- 2.7/7.7 MB 9.5 MB/s eta 0:00:01\n",
      "   ---------------- ----------------------- 3.2/7.7 MB 9.7 MB/s eta 0:00:01\n",
      "   ------------------- -------------------- 3.7/7.7 MB 9.9 MB/s eta 0:00:01\n",
      "   ------------------- -------------------- 3.8/7.7 MB 10.2 MB/s eta 0:00:01\n",
      "   --------------------- ------------------ 4.1/7.7 MB 8.6 MB/s eta 0:00:01\n",
      "   ---------------------- ----------------- 4.3/7.7 MB 8.4 MB/s eta 0:00:01\n",
      "   ------------------------ --------------- 4.7/7.7 MB 8.4 MB/s eta 0:00:01\n",
      "   --------------------------- ------------ 5.2/7.7 MB 8.5 MB/s eta 0:00:01\n",
      "   ----------------------------- ---------- 5.7/7.7 MB 8.6 MB/s eta 0:00:01\n",
      "   -------------------------------- ------- 6.1/7.7 MB 8.7 MB/s eta 0:00:01\n",
      "   ---------------------------------- ----- 6.6/7.7 MB 8.8 MB/s eta 0:00:01\n",
      "   ------------------------------------- -- 7.1/7.7 MB 8.9 MB/s eta 0:00:01\n",
      "   ---------------------------------------  7.5/7.7 MB 9.1 MB/s eta 0:00:01\n",
      "   ---------------------------------------  7.7/7.7 MB 8.9 MB/s eta 0:00:01\n",
      "   ---------------------------------------- 7.7/7.7 MB 8.6 MB/s eta 0:00:00\n",
      "Downloading contourpy-1.2.1-cp312-cp312-win_amd64.whl (189 kB)\n",
      "   ---------------------------------------- 0.0/189.9 kB ? eta -:--:--\n",
      "   ---------------------------------------- 189.9/189.9 kB 5.8 MB/s eta 0:00:00\n",
      "Downloading cycler-0.12.1-py3-none-any.whl (8.3 kB)\n",
      "Downloading fonttools-4.51.0-cp312-cp312-win_amd64.whl (2.2 MB)\n",
      "   ---------------------------------------- 0.0/2.2 MB ? eta -:--:--\n",
      "   ---------- ----------------------------- 0.6/2.2 MB 17.5 MB/s eta 0:00:01\n",
      "   ------------------- -------------------- 1.0/2.2 MB 13.3 MB/s eta 0:00:01\n",
      "   ---------------------------- ----------- 1.5/2.2 MB 12.2 MB/s eta 0:00:01\n",
      "   ------------------------------------- -- 2.0/2.2 MB 11.8 MB/s eta 0:00:01\n",
      "   ---------------------------------------- 2.2/2.2 MB 9.9 MB/s eta 0:00:00\n",
      "Downloading kiwisolver-1.4.5-cp312-cp312-win_amd64.whl (56 kB)\n",
      "   ---------------------------------------- 0.0/56.0 kB ? eta -:--:--\n",
      "   ---------------------------------------- 56.0/56.0 kB 3.1 MB/s eta 0:00:00\n",
      "Downloading pillow-10.3.0-cp312-cp312-win_amd64.whl (2.5 MB)\n",
      "   ---------------------------------------- 0.0/2.5 MB ? eta -:--:--\n",
      "    --------------------------------------- 0.1/2.5 MB ? eta -:--:--\n",
      "   ----------- ---------------------------- 0.7/2.5 MB 8.9 MB/s eta 0:00:01\n",
      "   ----------------- ---------------------- 1.1/2.5 MB 8.7 MB/s eta 0:00:01\n",
      "   ---------------------- ----------------- 1.4/2.5 MB 8.1 MB/s eta 0:00:01\n",
      "   ---------------------------- ----------- 1.8/2.5 MB 8.1 MB/s eta 0:00:01\n",
      "   ---------------------------------- ----- 2.2/2.5 MB 8.1 MB/s eta 0:00:01\n",
      "   ---------------------------------------  2.5/2.5 MB 8.0 MB/s eta 0:00:01\n",
      "   ---------------------------------------- 2.5/2.5 MB 7.3 MB/s eta 0:00:00\n",
      "Downloading pyparsing-3.1.2-py3-none-any.whl (103 kB)\n",
      "   ---------------------------------------- 0.0/103.2 kB ? eta -:--:--\n",
      "   ---------------------------------------- 103.2/103.2 kB 6.2 MB/s eta 0:00:00\n",
      "Installing collected packages: pyparsing, pillow, kiwisolver, fonttools, cycler, contourpy, matplotlib\n",
      "Successfully installed contourpy-1.2.1 cycler-0.12.1 fonttools-4.51.0 kiwisolver-1.4.5 matplotlib-3.8.4 pillow-10.3.0 pyparsing-3.1.2\n",
      "Note: you may need to restart the kernel to use updated packages.\n"
     ]
    }
   ],
   "source": [
    "pip install matplotlib"
   ]
  },
  {
   "cell_type": "code",
   "execution_count": 10,
   "id": "d1ac732c-c1a8-449e-9b3c-a928f919d5cd",
   "metadata": {},
   "outputs": [],
   "source": [
    "import pandas as pd"
   ]
  },
  {
   "cell_type": "code",
   "execution_count": 11,
   "id": "9f0e9142-25c1-4284-8dc2-0fd649741091",
   "metadata": {},
   "outputs": [],
   "source": [
    "import matplotlib.pyplot as plt\n",
    "%matplotlib inline"
   ]
  },
  {
   "cell_type": "code",
   "execution_count": 12,
   "id": "998ed7fc-0109-4102-be37-1274b75de425",
   "metadata": {},
   "outputs": [
    {
     "ename": "ModuleNotFoundError",
     "evalue": "No module named 'seaborn'",
     "output_type": "error",
     "traceback": [
      "\u001b[1;31m---------------------------------------------------------------------------\u001b[0m",
      "\u001b[1;31mModuleNotFoundError\u001b[0m                       Traceback (most recent call last)",
      "Cell \u001b[1;32mIn[12], line 1\u001b[0m\n\u001b[1;32m----> 1\u001b[0m \u001b[38;5;28;01mimport\u001b[39;00m \u001b[38;5;21;01mseaborn\u001b[39;00m \u001b[38;5;28;01mas\u001b[39;00m \u001b[38;5;21;01msns\u001b[39;00m\n\u001b[0;32m      2\u001b[0m \u001b[38;5;28;01mimport\u001b[39;00m \u001b[38;5;21;01mwarnings\u001b[39;00m\n\u001b[0;32m      3\u001b[0m warnings\u001b[38;5;241m.\u001b[39mfilterwarnings(\u001b[38;5;124m'\u001b[39m\u001b[38;5;124mignore\u001b[39m\u001b[38;5;124m'\u001b[39m)\n",
      "\u001b[1;31mModuleNotFoundError\u001b[0m: No module named 'seaborn'"
     ]
    }
   ],
   "source": [
    "import seaborn as sns\n",
    "import warnings\n",
    "warnings.filterwarnings('ignore')"
   ]
  },
  {
   "cell_type": "code",
   "execution_count": 13,
   "id": "45e6d27a-0748-4934-974e-2aa77ec02f47",
   "metadata": {},
   "outputs": [
    {
     "name": "stdout",
     "output_type": "stream",
     "text": [
      "Collecting seabornNote: you may need to restart the kernel to use updated packages.\n",
      "\n",
      "  Downloading seaborn-0.13.2-py3-none-any.whl.metadata (5.4 kB)\n",
      "Requirement already satisfied: numpy!=1.24.0,>=1.20 in c:\\users\\user\\appdata\\local\\programs\\python\\python312\\lib\\site-packages (from seaborn) (1.26.4)\n",
      "Requirement already satisfied: pandas>=1.2 in c:\\users\\user\\appdata\\local\\programs\\python\\python312\\lib\\site-packages (from seaborn) (2.2.2)\n",
      "Requirement already satisfied: matplotlib!=3.6.1,>=3.4 in c:\\users\\user\\appdata\\local\\programs\\python\\python312\\lib\\site-packages (from seaborn) (3.8.4)\n",
      "Requirement already satisfied: contourpy>=1.0.1 in c:\\users\\user\\appdata\\local\\programs\\python\\python312\\lib\\site-packages (from matplotlib!=3.6.1,>=3.4->seaborn) (1.2.1)\n",
      "Requirement already satisfied: cycler>=0.10 in c:\\users\\user\\appdata\\local\\programs\\python\\python312\\lib\\site-packages (from matplotlib!=3.6.1,>=3.4->seaborn) (0.12.1)\n",
      "Requirement already satisfied: fonttools>=4.22.0 in c:\\users\\user\\appdata\\local\\programs\\python\\python312\\lib\\site-packages (from matplotlib!=3.6.1,>=3.4->seaborn) (4.51.0)\n",
      "Requirement already satisfied: kiwisolver>=1.3.1 in c:\\users\\user\\appdata\\local\\programs\\python\\python312\\lib\\site-packages (from matplotlib!=3.6.1,>=3.4->seaborn) (1.4.5)\n",
      "Requirement already satisfied: packaging>=20.0 in c:\\users\\user\\appdata\\local\\programs\\python\\python312\\lib\\site-packages (from matplotlib!=3.6.1,>=3.4->seaborn) (23.2)\n",
      "Requirement already satisfied: pillow>=8 in c:\\users\\user\\appdata\\local\\programs\\python\\python312\\lib\\site-packages (from matplotlib!=3.6.1,>=3.4->seaborn) (10.3.0)\n",
      "Requirement already satisfied: pyparsing>=2.3.1 in c:\\users\\user\\appdata\\local\\programs\\python\\python312\\lib\\site-packages (from matplotlib!=3.6.1,>=3.4->seaborn) (3.1.2)\n",
      "Requirement already satisfied: python-dateutil>=2.7 in c:\\users\\user\\appdata\\local\\programs\\python\\python312\\lib\\site-packages (from matplotlib!=3.6.1,>=3.4->seaborn) (2.8.2)\n",
      "Requirement already satisfied: pytz>=2020.1 in c:\\users\\user\\appdata\\local\\programs\\python\\python312\\lib\\site-packages (from pandas>=1.2->seaborn) (2024.1)\n",
      "Requirement already satisfied: tzdata>=2022.7 in c:\\users\\user\\appdata\\local\\programs\\python\\python312\\lib\\site-packages (from pandas>=1.2->seaborn) (2024.1)\n",
      "Requirement already satisfied: six>=1.5 in c:\\users\\user\\appdata\\local\\programs\\python\\python312\\lib\\site-packages (from python-dateutil>=2.7->matplotlib!=3.6.1,>=3.4->seaborn) (1.16.0)\n",
      "Downloading seaborn-0.13.2-py3-none-any.whl (294 kB)\n",
      "   ---------------------------------------- 0.0/294.9 kB ? eta -:--:--\n",
      "   - -------------------------------------- 10.2/294.9 kB ? eta -:--:--\n",
      "   ---- ---------------------------------- 30.7/294.9 kB 435.7 kB/s eta 0:00:01\n",
      "   -------------------- ------------------- 153.6/294.9 kB 1.3 MB/s eta 0:00:01\n",
      "   ---------------------------------------- 294.9/294.9 kB 2.0 MB/s eta 0:00:00\n",
      "Installing collected packages: seaborn\n",
      "Successfully installed seaborn-0.13.2\n"
     ]
    }
   ],
   "source": [
    "pip install seaborn"
   ]
  },
  {
   "cell_type": "code",
   "execution_count": 14,
   "id": "1a89ac91-81cd-4568-b817-baee7d12811b",
   "metadata": {},
   "outputs": [],
   "source": [
    "import seaborn as sns\n",
    "import warnings\n",
    "warnings.filterwarnings('ignore')"
   ]
  },
  {
   "cell_type": "code",
   "execution_count": 16,
   "id": "34057ccd-5ecd-4bdd-a867-bbe285455e3e",
   "metadata": {},
   "outputs": [],
   "source": [
    "df = pd.read_csv(\"D:/Kharisteas Univ/Semester 4/Top_Highest_Openings.csv\")"
   ]
  },
  {
   "cell_type": "code",
   "execution_count": 17,
   "id": "f828cdfd-d2e8-4917-ad26-f6e47d7ecb1e",
   "metadata": {},
   "outputs": [
    {
     "data": {
      "text/html": [
       "<div>\n",
       "<style scoped>\n",
       "    .dataframe tbody tr th:only-of-type {\n",
       "        vertical-align: middle;\n",
       "    }\n",
       "\n",
       "    .dataframe tbody tr th {\n",
       "        vertical-align: top;\n",
       "    }\n",
       "\n",
       "    .dataframe thead th {\n",
       "        text-align: right;\n",
       "    }\n",
       "</style>\n",
       "<table border=\"1\" class=\"dataframe\">\n",
       "  <thead>\n",
       "    <tr style=\"text-align: right;\">\n",
       "      <th></th>\n",
       "      <th>Release</th>\n",
       "      <th>Opening</th>\n",
       "      <th>Total Gross</th>\n",
       "      <th>% of Total</th>\n",
       "      <th>Theaters</th>\n",
       "      <th>Average</th>\n",
       "      <th>Date</th>\n",
       "      <th>Distributor</th>\n",
       "    </tr>\n",
       "  </thead>\n",
       "  <tbody>\n",
       "    <tr>\n",
       "      <th>0</th>\n",
       "      <td>Avengers: Endgame</td>\n",
       "      <td>357115007</td>\n",
       "      <td>858373000</td>\n",
       "      <td>41.6</td>\n",
       "      <td>4662</td>\n",
       "      <td>76601</td>\n",
       "      <td>26-04-2019</td>\n",
       "      <td>Walt Disney Studios Motion Pictures</td>\n",
       "    </tr>\n",
       "    <tr>\n",
       "      <th>1</th>\n",
       "      <td>Spider-Man: No Way Home</td>\n",
       "      <td>260138569</td>\n",
       "      <td>804793477</td>\n",
       "      <td>32.3</td>\n",
       "      <td>4336</td>\n",
       "      <td>59995</td>\n",
       "      <td>17-12-2021</td>\n",
       "      <td>Sony Pictures Releasing</td>\n",
       "    </tr>\n",
       "    <tr>\n",
       "      <th>2</th>\n",
       "      <td>Avengers: Infinity War</td>\n",
       "      <td>257698183</td>\n",
       "      <td>678815482</td>\n",
       "      <td>38.0</td>\n",
       "      <td>4474</td>\n",
       "      <td>57599</td>\n",
       "      <td>27-04-2018</td>\n",
       "      <td>Walt Disney Studios Motion Pictures</td>\n",
       "    </tr>\n",
       "    <tr>\n",
       "      <th>3</th>\n",
       "      <td>Star Wars: Episode VII - The Force Awakens</td>\n",
       "      <td>247966675</td>\n",
       "      <td>936662225</td>\n",
       "      <td>26.5</td>\n",
       "      <td>4134</td>\n",
       "      <td>59982</td>\n",
       "      <td>18-12-2015</td>\n",
       "      <td>Walt Disney Studios Motion Pictures</td>\n",
       "    </tr>\n",
       "    <tr>\n",
       "      <th>4</th>\n",
       "      <td>Star Wars: Episode VIII - The Last Jedi</td>\n",
       "      <td>220009584</td>\n",
       "      <td>620181382</td>\n",
       "      <td>35.5</td>\n",
       "      <td>4232</td>\n",
       "      <td>51987</td>\n",
       "      <td>15-12-2017</td>\n",
       "      <td>Walt Disney Studios Motion Pictures</td>\n",
       "    </tr>\n",
       "  </tbody>\n",
       "</table>\n",
       "</div>"
      ],
      "text/plain": [
       "                                      Release    Opening  Total Gross  \\\n",
       "0                           Avengers: Endgame  357115007    858373000   \n",
       "1                     Spider-Man: No Way Home  260138569    804793477   \n",
       "2                      Avengers: Infinity War  257698183    678815482   \n",
       "3  Star Wars: Episode VII - The Force Awakens  247966675    936662225   \n",
       "4     Star Wars: Episode VIII - The Last Jedi  220009584    620181382   \n",
       "\n",
       "   % of Total  Theaters  Average        Date  \\\n",
       "0        41.6      4662    76601  26-04-2019   \n",
       "1        32.3      4336    59995  17-12-2021   \n",
       "2        38.0      4474    57599  27-04-2018   \n",
       "3        26.5      4134    59982  18-12-2015   \n",
       "4        35.5      4232    51987  15-12-2017   \n",
       "\n",
       "                           Distributor  \n",
       "0  Walt Disney Studios Motion Pictures  \n",
       "1              Sony Pictures Releasing  \n",
       "2  Walt Disney Studios Motion Pictures  \n",
       "3  Walt Disney Studios Motion Pictures  \n",
       "4  Walt Disney Studios Motion Pictures  "
      ]
     },
     "execution_count": 17,
     "metadata": {},
     "output_type": "execute_result"
    }
   ],
   "source": [
    "df.head()"
   ]
  },
  {
   "cell_type": "code",
   "execution_count": 18,
   "id": "cec1dc5e-377a-4468-90bf-157ffbd2aeec",
   "metadata": {},
   "outputs": [
    {
     "data": {
      "text/plain": [
       "Release         object\n",
       "Opening          int64\n",
       "Total Gross      int64\n",
       "% of Total     float64\n",
       "Theaters         int64\n",
       "Average          int64\n",
       "Date            object\n",
       "Distributor     object\n",
       "dtype: object"
      ]
     },
     "execution_count": 18,
     "metadata": {},
     "output_type": "execute_result"
    }
   ],
   "source": [
    "df.dtypes"
   ]
  },
  {
   "cell_type": "code",
   "execution_count": 19,
   "id": "cf461d9a-38b2-4324-aa08-1fe247ffcf1c",
   "metadata": {},
   "outputs": [
    {
     "data": {
      "text/plain": [
       "Release        0\n",
       "Opening        0\n",
       "Total Gross    0\n",
       "% of Total     0\n",
       "Theaters       0\n",
       "Average        0\n",
       "Date           0\n",
       "Distributor    0\n",
       "dtype: int64"
      ]
     },
     "execution_count": 19,
     "metadata": {},
     "output_type": "execute_result"
    }
   ],
   "source": [
    "df.isna().sum()"
   ]
  },
  {
   "cell_type": "code",
   "execution_count": 20,
   "id": "758db27c-b96a-4618-bc4a-b35bed5a00c4",
   "metadata": {},
   "outputs": [
    {
     "data": {
      "text/plain": [
       "Index(['Release', 'Opening', 'Total Gross', '% of Total', 'Theaters',\n",
       "       'Average', 'Date', 'Distributor'],\n",
       "      dtype='object')"
      ]
     },
     "execution_count": 20,
     "metadata": {},
     "output_type": "execute_result"
    }
   ],
   "source": [
    "df.columns"
   ]
  },
  {
   "cell_type": "code",
   "execution_count": 21,
   "id": "3cd8da81-3827-41d6-93bb-4742252745a2",
   "metadata": {},
   "outputs": [],
   "source": [
    "df['Date'] = pd.to_datetime(df['Date'])"
   ]
  },
  {
   "cell_type": "code",
   "execution_count": 22,
   "id": "a054a650-296b-4adf-8293-fda02e14946a",
   "metadata": {},
   "outputs": [],
   "source": [
    "df['Release_Year'] = df['Date'].dt.year\n",
    "df['Release_Month'] = df['Date'].dt.month\n",
    "df['Release_Day'] = df['Date'].dt.day\n",
    "df['Day_of_Week'] = df['Date'].dt.strftime(\"%a\")"
   ]
  },
  {
   "cell_type": "code",
   "execution_count": 23,
   "id": "4a92eaa7-90b8-43a1-9ec1-4ba3b5743b20",
   "metadata": {},
   "outputs": [],
   "source": [
    "df.drop(['Date'], axis = 1, inplace=True)"
   ]
  },
  {
   "cell_type": "code",
   "execution_count": 24,
   "id": "cee80d37-3c81-4fcb-927a-e148348138fb",
   "metadata": {},
   "outputs": [
    {
     "data": {
      "text/html": [
       "<div>\n",
       "<style scoped>\n",
       "    .dataframe tbody tr th:only-of-type {\n",
       "        vertical-align: middle;\n",
       "    }\n",
       "\n",
       "    .dataframe tbody tr th {\n",
       "        vertical-align: top;\n",
       "    }\n",
       "\n",
       "    .dataframe thead th {\n",
       "        text-align: right;\n",
       "    }\n",
       "</style>\n",
       "<table border=\"1\" class=\"dataframe\">\n",
       "  <thead>\n",
       "    <tr style=\"text-align: right;\">\n",
       "      <th></th>\n",
       "      <th>Release</th>\n",
       "      <th>Opening</th>\n",
       "      <th>Total Gross</th>\n",
       "      <th>% of Total</th>\n",
       "      <th>Theaters</th>\n",
       "      <th>Average</th>\n",
       "      <th>Distributor</th>\n",
       "      <th>Release_Year</th>\n",
       "      <th>Release_Month</th>\n",
       "      <th>Release_Day</th>\n",
       "      <th>Day_of_Week</th>\n",
       "    </tr>\n",
       "  </thead>\n",
       "  <tbody>\n",
       "    <tr>\n",
       "      <th>0</th>\n",
       "      <td>Avengers: Endgame</td>\n",
       "      <td>357115007</td>\n",
       "      <td>858373000</td>\n",
       "      <td>41.6</td>\n",
       "      <td>4662</td>\n",
       "      <td>76601</td>\n",
       "      <td>Walt Disney Studios Motion Pictures</td>\n",
       "      <td>2019</td>\n",
       "      <td>4</td>\n",
       "      <td>26</td>\n",
       "      <td>Fri</td>\n",
       "    </tr>\n",
       "    <tr>\n",
       "      <th>1</th>\n",
       "      <td>Spider-Man: No Way Home</td>\n",
       "      <td>260138569</td>\n",
       "      <td>804793477</td>\n",
       "      <td>32.3</td>\n",
       "      <td>4336</td>\n",
       "      <td>59995</td>\n",
       "      <td>Sony Pictures Releasing</td>\n",
       "      <td>2021</td>\n",
       "      <td>12</td>\n",
       "      <td>17</td>\n",
       "      <td>Fri</td>\n",
       "    </tr>\n",
       "    <tr>\n",
       "      <th>2</th>\n",
       "      <td>Avengers: Infinity War</td>\n",
       "      <td>257698183</td>\n",
       "      <td>678815482</td>\n",
       "      <td>38.0</td>\n",
       "      <td>4474</td>\n",
       "      <td>57599</td>\n",
       "      <td>Walt Disney Studios Motion Pictures</td>\n",
       "      <td>2018</td>\n",
       "      <td>4</td>\n",
       "      <td>27</td>\n",
       "      <td>Fri</td>\n",
       "    </tr>\n",
       "    <tr>\n",
       "      <th>3</th>\n",
       "      <td>Star Wars: Episode VII - The Force Awakens</td>\n",
       "      <td>247966675</td>\n",
       "      <td>936662225</td>\n",
       "      <td>26.5</td>\n",
       "      <td>4134</td>\n",
       "      <td>59982</td>\n",
       "      <td>Walt Disney Studios Motion Pictures</td>\n",
       "      <td>2015</td>\n",
       "      <td>12</td>\n",
       "      <td>18</td>\n",
       "      <td>Fri</td>\n",
       "    </tr>\n",
       "    <tr>\n",
       "      <th>4</th>\n",
       "      <td>Star Wars: Episode VIII - The Last Jedi</td>\n",
       "      <td>220009584</td>\n",
       "      <td>620181382</td>\n",
       "      <td>35.5</td>\n",
       "      <td>4232</td>\n",
       "      <td>51987</td>\n",
       "      <td>Walt Disney Studios Motion Pictures</td>\n",
       "      <td>2017</td>\n",
       "      <td>12</td>\n",
       "      <td>15</td>\n",
       "      <td>Fri</td>\n",
       "    </tr>\n",
       "  </tbody>\n",
       "</table>\n",
       "</div>"
      ],
      "text/plain": [
       "                                      Release    Opening  Total Gross  \\\n",
       "0                           Avengers: Endgame  357115007    858373000   \n",
       "1                     Spider-Man: No Way Home  260138569    804793477   \n",
       "2                      Avengers: Infinity War  257698183    678815482   \n",
       "3  Star Wars: Episode VII - The Force Awakens  247966675    936662225   \n",
       "4     Star Wars: Episode VIII - The Last Jedi  220009584    620181382   \n",
       "\n",
       "   % of Total  Theaters  Average                          Distributor  \\\n",
       "0        41.6      4662    76601  Walt Disney Studios Motion Pictures   \n",
       "1        32.3      4336    59995              Sony Pictures Releasing   \n",
       "2        38.0      4474    57599  Walt Disney Studios Motion Pictures   \n",
       "3        26.5      4134    59982  Walt Disney Studios Motion Pictures   \n",
       "4        35.5      4232    51987  Walt Disney Studios Motion Pictures   \n",
       "\n",
       "   Release_Year  Release_Month  Release_Day Day_of_Week  \n",
       "0          2019              4           26         Fri  \n",
       "1          2021             12           17         Fri  \n",
       "2          2018              4           27         Fri  \n",
       "3          2015             12           18         Fri  \n",
       "4          2017             12           15         Fri  "
      ]
     },
     "execution_count": 24,
     "metadata": {},
     "output_type": "execute_result"
    }
   ],
   "source": [
    "df.head()"
   ]
  },
  {
   "cell_type": "code",
   "execution_count": null,
   "id": "c0cd965d-e132-4d14-b66c-8328229a7f0c",
   "metadata": {},
   "outputs": [],
   "source": []
  }
 ],
 "metadata": {
  "kernelspec": {
   "display_name": "Python 3 (ipykernel)",
   "language": "python",
   "name": "python3"
  },
  "language_info": {
   "codemirror_mode": {
    "name": "ipython",
    "version": 3
   },
   "file_extension": ".py",
   "mimetype": "text/x-python",
   "name": "python",
   "nbconvert_exporter": "python",
   "pygments_lexer": "ipython3",
   "version": "3.12.2"
  }
 },
 "nbformat": 4,
 "nbformat_minor": 5
}
